{
  "cells": [
    {
      "cell_type": "markdown",
      "metadata": {
        "id": "view-in-github",
        "colab_type": "text"
      },
      "source": [
        "<a href=\"https://colab.research.google.com/github/sit-xinli/cv-course15/blob/main/samples.ipynb\" target=\"_parent\"><img src=\"https://colab.research.google.com/assets/colab-badge.svg\" alt=\"Open In Colab\"/></a>"
      ]
    },
    {
      "cell_type": "code",
      "execution_count": null,
      "id": "e5b5fe6b",
      "metadata": {
        "id": "e5b5fe6b"
      },
      "outputs": [],
      "source": [
        "from transformers import pipeline\n",
        "from PIL import Image\n",
        "import requests\n",
        "import numpy as np\n",
        "import matplotlib.pyplot as plt\n",
        "\n",
        "# load pipe\n",
        "pipe = pipeline(task=\"depth-estimation\", model=\"depth-anything/Depth-Anything-V2-Small-hf\")\n",
        "\n",
        "# load image\n",
        "url = 'http://images.cocodataset.org/val2017/000000039769.jpg'\n",
        "image = Image.open(requests.get(url, stream=True).raw)\n",
        "\n",
        "# inference\n",
        "depth = pipe(image)[\"depth\"]\n",
        "\n",
        "# Convert to numpy array\n",
        "depth_array = np.array(depth)\n",
        "\n",
        "\n",
        "# Normalize for visualization\n",
        "depth_normalized = (depth_array - depth_array.min()) / (depth_array.max() - depth_array.min())\n",
        "\n",
        "# Save depth image\n",
        "plt.imsave(\"disparity_map_image1.png\", depth_normalized, cmap='inferno')\n",
        "\n",
        "# Display in notebook\n",
        "plt.imshow(depth_normalized, cmap='inferno')\n",
        "plt.axis('off')  # Optional: hides axis ticks\n",
        "plt.title(\"Depth Image\")\n",
        "plt.show()\n"
      ]
    },
    {
      "cell_type": "code",
      "source": [
        "\n",
        "from IPython.display import display\n",
        "from google.colab import files\n",
        "\n",
        "# Upload image interactively\n",
        "uploaded = files.upload()\n",
        "\n",
        "# Load the uploaded image\n",
        "image_path = list(uploaded.keys())[0]\n",
        "image = Image.open(image_path)\n",
        "\n",
        "# Display the image\n",
        "display(image)\n",
        "\n",
        "# Load depth estimation pipeline\n",
        "pipe = pipeline(task=\"depth-estimation\", model=\"depth-anything/Depth-Anything-V2-Small-hf\")\n",
        "\n",
        "# Run inference\n",
        "depth = pipe(image)[\"depth\"]\n",
        "\n",
        "# Convert to NumPy array and normalize\n",
        "depth_array = np.array(depth)\n",
        "depth_normalized = (depth_array - depth_array.min()) / (depth_array.max() - depth_array.min())\n",
        "\n",
        "# Save depth image\n",
        "plt.imsave(\"disparity_map_image2.png\", depth_normalized, cmap='inferno')\n",
        "\n",
        "# Show depth image\n",
        "plt.imshow(depth_normalized, cmap='inferno')\n",
        "plt.axis('off')\n",
        "plt.title(\"Depth Image\")\n",
        "plt.show()\n"
      ],
      "metadata": {
        "id": "GB_NijQ6yoLa"
      },
      "id": "GB_NijQ6yoLa",
      "execution_count": null,
      "outputs": []
    }
  ],
  "metadata": {
    "kernelspec": {
      "display_name": "cv-course15",
      "language": "python",
      "name": "python3"
    },
    "language_info": {
      "codemirror_mode": {
        "name": "ipython",
        "version": 3
      },
      "file_extension": ".py",
      "mimetype": "text/x-python",
      "name": "python",
      "nbconvert_exporter": "python",
      "pygments_lexer": "ipython3",
      "version": "3.12.10"
    },
    "colab": {
      "provenance": [],
      "include_colab_link": true
    }
  },
  "nbformat": 4,
  "nbformat_minor": 5
}